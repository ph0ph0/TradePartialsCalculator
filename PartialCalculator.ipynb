{
 "metadata": {
  "language_info": {
   "codemirror_mode": {
    "name": "ipython",
    "version": 3
   },
   "file_extension": ".py",
   "mimetype": "text/x-python",
   "name": "python",
   "nbconvert_exporter": "python",
   "pygments_lexer": "ipython3",
   "version": "3.8.5"
  },
  "orig_nbformat": 2,
  "kernelspec": {
   "name": "python385jvsc74a57bd040288931763425223b7919f22330cb88204370366590cb470e4983e0930aa534",
   "display_name": "Python 3.8.5 64-bit ('base': conda)"
  }
 },
 "nbformat": 4,
 "nbformat_minor": 2,
 "cells": [
  {
   "cell_type": "code",
   "execution_count": 53,
   "metadata": {},
   "outputs": [
    {
     "output_type": "display_data",
     "data": {
      "text/plain": "   Partials  AtR  Profit  Realised Profit  Realised R\n0        30  2.2   66.00            66.00      0.6600\n1        60  3.1  130.20           196.20      1.9620\n2        60  4.4   73.92           270.12      2.7012\n3       100  4.8   53.76           323.88      3.2388",
      "text/html": "<div>\n<style scoped>\n    .dataframe tbody tr th:only-of-type {\n        vertical-align: middle;\n    }\n\n    .dataframe tbody tr th {\n        vertical-align: top;\n    }\n\n    .dataframe thead th {\n        text-align: right;\n    }\n</style>\n<table border=\"1\" class=\"dataframe\">\n  <thead>\n    <tr style=\"text-align: right;\">\n      <th></th>\n      <th>Partials</th>\n      <th>AtR</th>\n      <th>Profit</th>\n      <th>Realised Profit</th>\n      <th>Realised R</th>\n    </tr>\n  </thead>\n  <tbody>\n    <tr>\n      <th>0</th>\n      <td>30</td>\n      <td>2.2</td>\n      <td>66.00</td>\n      <td>66.00</td>\n      <td>0.6600</td>\n    </tr>\n    <tr>\n      <th>1</th>\n      <td>60</td>\n      <td>3.1</td>\n      <td>130.20</td>\n      <td>196.20</td>\n      <td>1.9620</td>\n    </tr>\n    <tr>\n      <th>2</th>\n      <td>60</td>\n      <td>4.4</td>\n      <td>73.92</td>\n      <td>270.12</td>\n      <td>2.7012</td>\n    </tr>\n    <tr>\n      <th>3</th>\n      <td>100</td>\n      <td>4.8</td>\n      <td>53.76</td>\n      <td>323.88</td>\n      <td>3.2388</td>\n    </tr>\n  </tbody>\n</table>\n</div>"
     },
     "metadata": {}
    }
   ],
   "source": [
    "import pandas as pd\n",
    "\n",
    "# list of partials\n",
    "partials = [30, 60, 60, 100]\n",
    "AtR = [2.2, 3.1, 4.4, 4.8]\n",
    "\n",
    "\n",
    "if partials[-1] != 100:\n",
    "    raise Exception(\"Final partial must be 100\")\n",
    "if len(partials) != len(AtR):\n",
    "    raise Exception(\"Number of partials must be equal to number of AtR\")\n",
    "\n",
    "total_shares = 100\n",
    "remaining_shares = total_shares\n",
    "total_profit = 0\n",
    "profit_array = []\n",
    "\n",
    "for idx, partial in enumerate(partials):\n",
    "    # Percentage of shares to close\n",
    "    shares_to_close = remaining_shares * (partial / 100)\n",
    "    # print(shares_to_close)\n",
    "    remaining_shares = remaining_shares - shares_to_close\n",
    "    profit = shares_to_close * AtR[idx]\n",
    "    profit_array.append(profit)\n",
    "    total_profit += profit\n",
    "    \n",
    "\n",
    "df = pd.DataFrame({'Partials': partials, 'AtR': AtR, 'Profit': profit_array})\n",
    "df[\"Realised Profit\"] = df.Profit.cumsum()\n",
    "df[\"Realised R\"] = df[\"Realised Profit\"] / total_shares\n",
    "display(df)\n"
   ]
  }
 ]
}