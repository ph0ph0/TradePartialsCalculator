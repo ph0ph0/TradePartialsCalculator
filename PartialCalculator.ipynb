{
 "metadata": {
  "language_info": {
   "codemirror_mode": {
    "name": "ipython",
    "version": 3
   },
   "file_extension": ".py",
   "mimetype": "text/x-python",
   "name": "python",
   "nbconvert_exporter": "python",
   "pygments_lexer": "ipython3",
   "version": "3.8.5"
  },
  "orig_nbformat": 2,
  "kernelspec": {
   "name": "python385jvsc74a57bd040288931763425223b7919f22330cb88204370366590cb470e4983e0930aa534",
   "display_name": "Python 3.8.5 64-bit ('base': conda)"
  }
 },
 "nbformat": 4,
 "nbformat_minor": 2,
 "cells": [
  {
   "cell_type": "code",
   "execution_count": 52,
   "metadata": {},
   "outputs": [
    {
     "output_type": "stream",
     "name": "stdout",
     "text": [
      "   Partials  AtR  Profit  Realised Profit  Realised R\n0        30  2.2   66.00            66.00      0.6600\n1        60  3.1  130.20           196.20      1.9620\n2        60  4.4   73.92           270.12      2.7012\n3       100  4.8   53.76           323.88      3.2388\n"
     ]
    }
   ],
   "source": [
    "import pandas as pd\n",
    "\n",
    "# list of partials\n",
    "partials = [30, 60, 60, 100]\n",
    "AtR = [2.2, 3.1, 4.4, 4.8]\n",
    "\n",
    "\n",
    "if partials[-1] != 100:\n",
    "    raise Exception(\"Final partial must be 100\")\n",
    "if len(partials) != len(AtR):\n",
    "    raise Exception(\"Number of partials must be equal to number of AtR\")\n",
    "\n",
    "total_shares = 100\n",
    "remaining_shares = total_shares\n",
    "total_profit = 0\n",
    "profit_array = []\n",
    "\n",
    "for idx, partial in enumerate(partials):\n",
    "    # Percentage of shares to close\n",
    "    shares_to_close = remaining_shares * (partial / 100)\n",
    "    # print(shares_to_close)\n",
    "    remaining_shares = remaining_shares - shares_to_close\n",
    "    profit = shares_to_close * AtR[idx]\n",
    "    profit_array.append(profit)\n",
    "    total_profit += profit\n",
    "    \n",
    "\n",
    "df = pd.DataFrame({'Partials': partials, 'AtR': AtR, 'Profit': profit_array})\n",
    "df[\"Realised Profit\"] = df.Profit.cumsum()\n",
    "df[\"Realised R\"] = df[\"Realised Profit\"] / total_shares\n",
    "print(df)\n"
   ]
  }
 ]
}